{
  "nbformat": 4,
  "nbformat_minor": 0,
  "metadata": {
    "colab": {
      "name": "Copy of Twitter Sentiment Analysis.ipynb",
      "provenance": [],
      "collapsed_sections": [
        "tf2jhR-gW_-s",
        "OyTaaXP-5suI",
        "7a8j3djvw4ya",
        "mFlbcdDjw2f7"
      ],
      "include_colab_link": true
    },
    "kernelspec": {
      "name": "python3",
      "display_name": "Python 3"
    }
  },
  "cells": [
    {
      "cell_type": "markdown",
      "metadata": {
        "id": "view-in-github",
        "colab_type": "text"
      },
      "source": [
        "<a href=\"https://colab.research.google.com/github/07-chris/hotel-management/blob/master/Copy_of_Twitter_Sentiment_Analysis.ipynb\" target=\"_parent\"><img src=\"https://colab.research.google.com/assets/colab-badge.svg\" alt=\"Open In Colab\"/></a>"
      ]
    },
    {
      "cell_type": "code",
      "metadata": {
        "id": "pXSrmmZr7orS",
        "colab": {
          "base_uri": "https://localhost:8080/",
          "height": 394
        },
        "outputId": "4d3612ec-f2ba-4e61-9703-eef93a53265a"
      },
      "source": [
        "# Import basic packages\n",
        "import numpy as np\n",
        "import pandas as pd\n",
        "import matplotlib.pyplot as plt\n",
        " \n",
        "!pip install tweepy\n",
        " \n",
        "# Import other relevant packages\n",
        "import tweepy\n",
        "import re\n",
        "import math\n",
        "import string\n",
        "import pickle\n",
        "from urllib.request import urlopen\n",
        "from string import punctuation\n",
        "from joblib import dump, load\n",
        "from skimage import io\n",
        "from wordcloud import WordCloud, STOPWORDS\n",
        " \n",
        "# Import and download NLP functions\n",
        "import nltk\n",
        "from nltk.corpus import stopwords\n",
        "from nltk.corpus import wordnet as wn\n",
        "from nltk.tokenize import word_tokenize\n",
        "nltk.download('punkt')\n",
        "nltk.download('stopwords')\n",
        "nltk.download('wordnet')\n",
        "nltk.download('averaged_perceptron_tagger')\n",
        " \n",
        "# Import sklearn functions\n",
        "from sklearn.model_selection import train_test_split\n",
        "from sklearn.metrics import accuracy_score, confusion_matrix, classification_report, roc_curve, auc\n",
        " \n",
        "# Import estimators\n",
        "from sklearn.feature_extraction.text import CountVectorizer, TfidfTransformer, TfidfVectorizer\n",
        "from sklearn.svm import SVC\n",
        "from sklearn.naive_bayes import MultinomialNB\n",
        "from sklearn.linear_model import SGDClassifier, Perceptron, LogisticRegression\n",
        "from sklearn.neighbors import KNeighborsClassifier\n",
        "from sklearn.ensemble import RandomForestClassifier\n",
        "from sklearn.discriminant_analysis import LinearDiscriminantAnalysis\n",
        "from sklearn.neural_network import MLPClassifier\n",
        " \n",
        "# Import streamlined methodology methods\n",
        "from sklearn.pipeline import Pipeline\n",
        "from sklearn.base import BaseEstimator\n",
        "from sklearn.model_selection import GridSearchCV\n",
        "from sklearn.externals import joblib"
      ],
      "execution_count": null,
      "outputs": [
        {
          "output_type": "stream",
          "text": [
            "Requirement already satisfied: tweepy in /usr/local/lib/python3.6/dist-packages (3.6.0)\n",
            "Requirement already satisfied: requests>=2.11.1 in /usr/local/lib/python3.6/dist-packages (from tweepy) (2.23.0)\n",
            "Requirement already satisfied: requests-oauthlib>=0.7.0 in /usr/local/lib/python3.6/dist-packages (from tweepy) (1.3.0)\n",
            "Requirement already satisfied: six>=1.10.0 in /usr/local/lib/python3.6/dist-packages (from tweepy) (1.12.0)\n",
            "Requirement already satisfied: PySocks>=1.5.7 in /usr/local/lib/python3.6/dist-packages (from tweepy) (1.7.1)\n",
            "Requirement already satisfied: certifi>=2017.4.17 in /usr/local/lib/python3.6/dist-packages (from requests>=2.11.1->tweepy) (2020.4.5.1)\n",
            "Requirement already satisfied: chardet<4,>=3.0.2 in /usr/local/lib/python3.6/dist-packages (from requests>=2.11.1->tweepy) (3.0.4)\n",
            "Requirement already satisfied: urllib3!=1.25.0,!=1.25.1,<1.26,>=1.21.1 in /usr/local/lib/python3.6/dist-packages (from requests>=2.11.1->tweepy) (1.24.3)\n",
            "Requirement already satisfied: idna<3,>=2.5 in /usr/local/lib/python3.6/dist-packages (from requests>=2.11.1->tweepy) (2.9)\n",
            "Requirement already satisfied: oauthlib>=3.0.0 in /usr/local/lib/python3.6/dist-packages (from requests-oauthlib>=0.7.0->tweepy) (3.1.0)\n",
            "[nltk_data] Downloading package punkt to /root/nltk_data...\n",
            "[nltk_data]   Unzipping tokenizers/punkt.zip.\n",
            "[nltk_data] Downloading package stopwords to /root/nltk_data...\n",
            "[nltk_data]   Unzipping corpora/stopwords.zip.\n",
            "[nltk_data] Downloading package wordnet to /root/nltk_data...\n",
            "[nltk_data]   Unzipping corpora/wordnet.zip.\n",
            "[nltk_data] Downloading package averaged_perceptron_tagger to\n",
            "[nltk_data]     /root/nltk_data...\n",
            "[nltk_data]   Unzipping taggers/averaged_perceptron_tagger.zip.\n"
          ],
          "name": "stdout"
        },
        {
          "output_type": "stream",
          "text": [
            "/usr/local/lib/python3.6/dist-packages/sklearn/externals/joblib/__init__.py:15: FutureWarning: sklearn.externals.joblib is deprecated in 0.21 and will be removed in 0.23. Please import this functionality directly from joblib, which can be installed with: pip install joblib. If this warning is raised when loading pickled models, you may need to re-serialize those models with scikit-learn 0.21+.\n",
            "  warnings.warn(msg, category=FutureWarning)\n"
          ],
          "name": "stderr"
        }
      ]
    },
    {
      "cell_type": "code",
      "metadata": {
        "id": "lUmViRbfUvGT"
      },
      "source": [
        "def print_balance(df, col='senti'):\n",
        "    if type(df) == pd.DataFrame:\n",
        "        counts = df[col].value_counts(normalize=True)\n",
        "    else:\n",
        "        labels, counts = np.unique(y_test, return_counts=True)\n",
        "        counts = dict(zip(labels, counts / len(y_test)))\n",
        " \n",
        "    print('This dataset contains {0} negative tweets ({1:.1%})'.format(int(counts[0]*len(df)), counts[0]))\n",
        "    print('This dataset contains {0} neutral tweets ({1:.1%})'.format(int(counts[2]*len(df)), counts[2]))\n",
        "    print('This dataset contains {0} positive tweets ({1:.1%})'.format(int(counts[4]*len(df)), counts[4]))\n",
        "    return counts\n",
        " \n",
        "def balance(df, col='senti', weights=(1, 1, 1)):\n",
        "    # Get the number of observations with each classification\n",
        "    counts = df[col].value_counts(normalize=True)\n",
        " \n",
        "    # Get the smallest number of observations for a sentiment label\n",
        "    minNum = int(counts.min() * len(df))\n",
        " \n",
        "    # Split the observations by sentiment and keep the same number of observations for each\n",
        "    df_neg = df[df.senti == 0].iloc[:int(minNum*weights[0]), :]\n",
        "    df_neu = df[df.senti == 2].iloc[:int(minNum*weights[1]), :]\n",
        "    df_pos = df[df.senti == 4].iloc[:int(minNum*weights[2]), :]\n",
        " \n",
        "    # Combine observations back into one dataframe \n",
        "    df_bal = pd.concat([df_neg, df_neu, df_pos])\n",
        "    return df_bal\n",
        " \n",
        "def clean_sentiment(s):\n",
        "    '''\n",
        "    This function cleans the sentiment label for tweets in the Sanders Analytics dataset.\n",
        "    \n",
        "    Inputs: string (sentiment label : {'negative', 'neutral', 'positive'})\n",
        "    Outputs: integer (sentiment label : {0, 2, 4})\n",
        "    '''\n",
        "    if s == 'positive':\n",
        "        return 4\n",
        "    elif s == 'negative':\n",
        "        return 0\n",
        "    else:\n",
        "        return 2\n",
        " \n",
        "def preprocessTweets(text):\n",
        "    text = str(text)\n",
        "    text = text.translate(str.maketrans('', '', string.punctuation))    # Remove punctuation\n",
        "    text = re.sub('((www\\.[^\\s]+)|(https?://[^\\s]+))', 'URL', text)     # Remove URLs\n",
        "    text = re.sub('@[^\\s]+', 'AT_USER', text)                           # Remove usernames\n",
        "    return text\n",
        " \n",
        " \n",
        "class ClfSwitcher(BaseEstimator):\n",
        " \n",
        "    def __init__(self, estimator=SVC()):\n",
        "        \"\"\"\n",
        "        A Custom BaseEstimator that can switch between classifiers.\n",
        "        :param estimator: sklearn object - The classifier\n",
        "        \"\"\" \n",
        " \n",
        "        self.estimator = estimator\n",
        " \n",
        "    def fit(self, X, y=None, **kwargs):\n",
        "        self.estimator.fit(X, y)\n",
        "        return self\n",
        " \n",
        "    def predict(self, X, y=None):\n",
        "        return self.estimator.predict(X)\n",
        " \n",
        "    def predict_proba(self, X):\n",
        "        return self.estimator.predict_proba(X)\n",
        " \n",
        "    def score(self, X, y):\n",
        "        return self.estimator.score(X, y)"
      ],
      "execution_count": null,
      "outputs": []
    },
    {
      "cell_type": "code",
      "metadata": {
        "id": "hQDprSKllSNL",
        "colab": {
          "base_uri": "https://localhost:8080/",
          "height": 204
        },
        "outputId": "f3cb8325-5421-45c0-f9cc-60f0a23e3278"
      },
      "source": [
        "data1 = pd.read_csv('https://github.com/TharinduMunasinge/Twitter-Sentiment-Analysis/raw/master/DataSet/FinalizedFull.csv').rename(columns={'tweet':'text'})\n",
        "data1.head()"
      ],
      "execution_count": null,
      "outputs": [
        {
          "output_type": "execute_result",
          "data": {
            "text/html": [
              "<div>\n",
              "<style scoped>\n",
              "    .dataframe tbody tr th:only-of-type {\n",
              "        vertical-align: middle;\n",
              "    }\n",
              "\n",
              "    .dataframe tbody tr th {\n",
              "        vertical-align: top;\n",
              "    }\n",
              "\n",
              "    .dataframe thead th {\n",
              "        text-align: right;\n",
              "    }\n",
              "</style>\n",
              "<table border=\"1\" class=\"dataframe\">\n",
              "  <thead>\n",
              "    <tr style=\"text-align: right;\">\n",
              "      <th></th>\n",
              "      <th>text</th>\n",
              "      <th>senti</th>\n",
              "    </tr>\n",
              "  </thead>\n",
              "  <tbody>\n",
              "    <tr>\n",
              "      <th>0</th>\n",
              "      <td>@united UA5396 can wait for me. I'm on the gro...</td>\n",
              "      <td>0</td>\n",
              "    </tr>\n",
              "    <tr>\n",
              "      <th>1</th>\n",
              "      <td>I hate Time Warner! Soooo wish I had Vios. Can...</td>\n",
              "      <td>0</td>\n",
              "    </tr>\n",
              "    <tr>\n",
              "      <th>2</th>\n",
              "      <td>@united Oh, we are sure it's not planned, but ...</td>\n",
              "      <td>0</td>\n",
              "    </tr>\n",
              "    <tr>\n",
              "      <th>3</th>\n",
              "      <td>Tom Shanahan's latest column on SDSU and its N...</td>\n",
              "      <td>2</td>\n",
              "    </tr>\n",
              "    <tr>\n",
              "      <th>4</th>\n",
              "      <td>Found the self driving car!! /IWo3QSvdu2</td>\n",
              "      <td>2</td>\n",
              "    </tr>\n",
              "  </tbody>\n",
              "</table>\n",
              "</div>"
            ],
            "text/plain": [
              "                                                text  senti\n",
              "0  @united UA5396 can wait for me. I'm on the gro...      0\n",
              "1  I hate Time Warner! Soooo wish I had Vios. Can...      0\n",
              "2  @united Oh, we are sure it's not planned, but ...      0\n",
              "3  Tom Shanahan's latest column on SDSU and its N...      2\n",
              "4           Found the self driving car!! /IWo3QSvdu2      2"
            ]
          },
          "metadata": {
            "tags": []
          },
          "execution_count": 3
        }
      ]
    },
    {
      "cell_type": "code",
      "metadata": {
        "id": "sOCWOfJFPLUd",
        "colab": {
          "base_uri": "https://localhost:8080/",
          "height": 68
        },
        "outputId": "a904e268-1d20-44d7-ac94-c09b648335a0"
      },
      "source": [
        "# Check the balance of the dataset\n",
        "counts1 = print_balance(data1)"
      ],
      "execution_count": null,
      "outputs": [
        {
          "output_type": "stream",
          "text": [
            "This dataset contains 377 negative tweets (37.8%)\n",
            "This dataset contains 239 neutral tweets (24.0%)\n",
            "This dataset contains 381 positive tweets (38.2%)\n"
          ],
          "name": "stdout"
        }
      ]
    },
    {
      "cell_type": "code",
      "metadata": {
        "id": "Ks9cEN71BvyK",
        "colab": {
          "base_uri": "https://localhost:8080/",
          "height": 204
        },
        "outputId": "fc799ee0-2da7-4b3d-82fb-38f6066fbee5"
      },
      "source": [
        "# Read in the dataset\n",
        "data2 = pd.read_csv('https://raw.githubusercontent.com/zfz/twitter_corpus/master/full-corpus.csv')[['Sentiment', 'TweetText']].rename(columns={'Sentiment':'senti', 'TweetText':'text'})\n",
        " \n",
        "# Drop all spanish observations\n",
        "data2 = data2[data2.senti != 'irrelevant']\n",
        " \n",
        "# Clean the sentiment labels\n",
        "data2['senti'] = data2['senti'].apply(clean_sentiment)\n",
        " \n",
        "data2.head()"
      ],
      "execution_count": null,
      "outputs": [
        {
          "output_type": "execute_result",
          "data": {
            "text/html": [
              "<div>\n",
              "<style scoped>\n",
              "    .dataframe tbody tr th:only-of-type {\n",
              "        vertical-align: middle;\n",
              "    }\n",
              "\n",
              "    .dataframe tbody tr th {\n",
              "        vertical-align: top;\n",
              "    }\n",
              "\n",
              "    .dataframe thead th {\n",
              "        text-align: right;\n",
              "    }\n",
              "</style>\n",
              "<table border=\"1\" class=\"dataframe\">\n",
              "  <thead>\n",
              "    <tr style=\"text-align: right;\">\n",
              "      <th></th>\n",
              "      <th>senti</th>\n",
              "      <th>text</th>\n",
              "    </tr>\n",
              "  </thead>\n",
              "  <tbody>\n",
              "    <tr>\n",
              "      <th>0</th>\n",
              "      <td>4</td>\n",
              "      <td>Now all @Apple has to do is get swype on the i...</td>\n",
              "    </tr>\n",
              "    <tr>\n",
              "      <th>1</th>\n",
              "      <td>4</td>\n",
              "      <td>@Apple will be adding more carrier support to ...</td>\n",
              "    </tr>\n",
              "    <tr>\n",
              "      <th>2</th>\n",
              "      <td>4</td>\n",
              "      <td>Hilarious @youtube video - guy does a duet wit...</td>\n",
              "    </tr>\n",
              "    <tr>\n",
              "      <th>3</th>\n",
              "      <td>4</td>\n",
              "      <td>@RIM you made it too easy for me to switch to ...</td>\n",
              "    </tr>\n",
              "    <tr>\n",
              "      <th>4</th>\n",
              "      <td>4</td>\n",
              "      <td>I just realized that the reason I got into twi...</td>\n",
              "    </tr>\n",
              "  </tbody>\n",
              "</table>\n",
              "</div>"
            ],
            "text/plain": [
              "   senti                                               text\n",
              "0      4  Now all @Apple has to do is get swype on the i...\n",
              "1      4  @Apple will be adding more carrier support to ...\n",
              "2      4  Hilarious @youtube video - guy does a duet wit...\n",
              "3      4  @RIM you made it too easy for me to switch to ...\n",
              "4      4  I just realized that the reason I got into twi..."
            ]
          },
          "metadata": {
            "tags": []
          },
          "execution_count": 5
        }
      ]
    },
    {
      "cell_type": "code",
      "metadata": {
        "id": "xHT5w5apSblQ",
        "colab": {
          "base_uri": "https://localhost:8080/",
          "height": 68
        },
        "outputId": "50d3f8c1-6699-4ebd-e27a-8ac3e8c218f7"
      },
      "source": [
        "# Check the balance of the dataset\n",
        "counts2 = print_balance(data2)"
      ],
      "execution_count": null,
      "outputs": [
        {
          "output_type": "stream",
          "text": [
            "This dataset contains 572 negative tweets (16.7%)\n",
            "This dataset contains 2333 neutral tweets (68.1%)\n",
            "This dataset contains 519 positive tweets (15.2%)\n"
          ],
          "name": "stdout"
        }
      ]
    },
    {
      "cell_type": "code",
      "metadata": {
        "id": "nILYW_U3UgY0",
        "colab": {
          "base_uri": "https://localhost:8080/",
          "height": 68
        },
        "outputId": "028ef27e-03ef-45d5-95d9-d36ee3ce4977"
      },
      "source": [
        "# Concatenate both training sets and preprocess tweets\n",
        "train = pd.concat([data1, data2])\n",
        "train['text'] = train['text'].apply(preprocessTweets)\n",
        " \n",
        "# Check the balance of the dataset\n",
        "train_counts = print_balance(train)"
      ],
      "execution_count": null,
      "outputs": [
        {
          "output_type": "stream",
          "text": [
            "This dataset contains 949 negative tweets (21.5%)\n",
            "This dataset contains 2572 neutral tweets (58.2%)\n",
            "This dataset contains 900 positive tweets (20.4%)\n"
          ],
          "name": "stdout"
        }
      ]
    },
    {
      "cell_type": "code",
      "metadata": {
        "id": "-xAwNoKD8okU",
        "colab": {
          "base_uri": "https://localhost:8080/",
          "height": 68
        },
        "outputId": "8bf2683d-91af-4ec8-d2a8-56ce5bd4d0da"
      },
      "source": [
        "# Create an adjusted dataset where there are twice as many neutral tweets as positive or negative tweets\n",
        "train_adj = balance(train, weights=(1, 1.5, 1))\n",
        " \n",
        "# Check the adjusted of the dataset\n",
        "train_counts = print_balance(train_adj)\n",
        " \n",
        "# Create train and test sets\n",
        "X_train, X_test, y_train, y_test = train_test_split(train_adj.text.values, train_adj.senti.values, random_state=637)"
      ],
      "execution_count": null,
      "outputs": [
        {
          "output_type": "stream",
          "text": [
            "This dataset contains 900 negative tweets (28.6%)\n",
            "This dataset contains 1350 neutral tweets (42.9%)\n",
            "This dataset contains 900 positive tweets (28.6%)\n"
          ],
          "name": "stdout"
        }
      ]
    },
    {
      "cell_type": "code",
      "metadata": {
        "id": "qdfY0QjGITsU"
      },
      "source": [
        "# Create train and test sets\n",
        "X_train, X_test, y_train, y_test = train_test_split(train.text.values, train.senti.values, random_state=637)"
      ],
      "execution_count": null,
      "outputs": []
    },
    {
      "cell_type": "code",
      "metadata": {
        "id": "zwvToCqPIX7M",
        "colab": {
          "base_uri": "https://localhost:8080/",
          "height": 170
        },
        "outputId": "1ba76319-d6c7-4abb-c6a5-2931e8abd500"
      },
      "source": [
        "# Split the test set into two equal parts\n",
        "X_test_bal, X_test_full, y_test_bal, y_test_full = train_test_split(X_test, y_test, test_size=0.5, random_state=637)\n",
        " \n",
        "# See composition of unbalanced test set\n",
        "print('\\033[1mComposition of unbalanced test set:\\033[0m')\n",
        "print_balance(y_test_full)\n",
        " \n",
        "# Create the balanced dataframe\n",
        "test_bal = pd.DataFrame({'text':X_test_bal, 'senti':y_test_bal})\n",
        "test_bal = balance(test_bal)\n",
        "print('\\n\\033[1mComposition of balanced test set:\\033[0m')\n",
        "print_balance(test_bal)\n",
        " \n",
        "X_test_bal = test_bal.text.values\n",
        "y_test_bal = test_bal.senti.values"
      ],
      "execution_count": null,
      "outputs": [
        {
          "output_type": "stream",
          "text": [
            "\u001b[1mComposition of unbalanced test set:\u001b[0m\n",
            "This dataset contains 111 negative tweets (20.2%)\n",
            "This dataset contains 327 neutral tweets (59.1%)\n",
            "This dataset contains 114 positive tweets (20.7%)\n",
            "\n",
            "\u001b[1mComposition of balanced test set:\u001b[0m\n",
            "This dataset contains 114 negative tweets (33.3%)\n",
            "This dataset contains 114 neutral tweets (33.3%)\n",
            "This dataset contains 114 positive tweets (33.3%)\n"
          ],
          "name": "stdout"
        }
      ]
    },
    {
      "cell_type": "code",
      "metadata": {
        "id": "gNw6ZHZRUIPK"
      },
      "source": [
        "class TwitterSentimentModel():\n",
        " \n",
        "    def __init__(self):\n",
        "        pass\n",
        " \n",
        "    def fit(self, X, y, classifier='all', cv=10, verbose=False):\n",
        " \n",
        "        X = [preprocessTweets(t) for t in X]\n",
        " \n",
        "        # Create the Pipeline object\n",
        "        pipeline = Pipeline([\n",
        "            ('tfidf', TfidfVectorizer(lowercase=True, \n",
        "                                strip_accents='ascii',\n",
        "                                stop_words='english')),\n",
        "            ('clf', ClfSwitcher())\n",
        "        ])\n",
        " \n",
        "        # this is where we define the values for GridSearchCV to iterate over\n",
        "        parameters = [\n",
        "            { # For SVM, the best accuracy was 70.67% on the test data (71.36% on training data) -- runs in about 60 sec\n",
        "             'clf__estimator': [SVC(random_state=637)],\n",
        "             'tfidf__ngram_range': [(1, 1), (1, 2)],\n",
        "             'tfidf__norm' : ['l1', 'l2'],\n",
        "             'clf__estimator__kernel' : ['rbf', 'linear', 'sigmoid'],\n",
        "            },\n",
        "            { # For Naive Bayes, the best accuracy was 68.30% on the test data (70.12% on training data) -- runs in about 5.1 sec\n",
        "             'clf__estimator': [MultinomialNB()],\n",
        "             'tfidf__ngram_range': [(1, 1), (1, 2)],\n",
        "             'tfidf__norm' : ['l1', 'l2'],\n",
        "             'clf__estimator__fit_prior' : [True, False],\n",
        "             'clf__estimator__alpha' : np.arange(0.1, 1.5, 16)\n",
        "            },\n",
        "            { # For SGD, the best accuracy was 72.15% on the test data (72.74% on training data) -- runs in about 34.3 sec\n",
        "             'clf__estimator': [SGDClassifier(random_state=637, n_jobs=-1)],\n",
        "             'tfidf__ngram_range': [(1, 1), (1, 2)],\n",
        "             'tfidf__norm' : ['l1', 'l2'],\n",
        "             'clf__estimator__loss': ['log', 'modified_huber'],\n",
        "             'clf__estimator__penalty': ['l1', 'l2', 'elasticnet']\n",
        "            },\n",
        "            { # For KNN, the best accuracy was 62.96% on the test data (64.25% on training data) -- runs in about 35.3 sec\n",
        "             'clf__estimator': [KNeighborsClassifier()],\n",
        "             'tfidf__ngram_range': [(1, 1), (1, 2)],\n",
        "             'tfidf__norm' : ['l1', 'l2'],\n",
        "             'clf__estimator__leaf_size': [10, 30, 50],\n",
        "             'clf__estimator__n_neighbors' : [1, 5, 10, 20]\n",
        "            },\n",
        "            { # For Random Forests, the best accuracy was 68.30% on the test data (69.13% on training data) -- runs in about 1.7 min (102 sec)\n",
        "             'clf__estimator': [RandomForestClassifier(random_state=637, n_jobs=-1)],\n",
        "             'tfidf__ngram_range': [(1, 1)],\n",
        "             'tfidf__norm' : ['l1', 'l2'],\n",
        "             'clf__estimator__criterion' : ['gini', 'entropy'],\n",
        "             'clf__estimator__min_samples_leaf' : [1, 5],\n",
        "             'clf__estimator__max_depth' : [5, 25, None]\n",
        "            },\n",
        "            { # For Perceptron, the best accuracy was 69.93% on the test data (69.87% on training data) -- runs in about 11.2 sec\n",
        "             'clf__estimator': [Perceptron(random_state=637, n_jobs=-1)],\n",
        "             'tfidf__ngram_range': [(1, 1), (1, 2)],\n",
        "             'tfidf__norm' : ['l1', 'l2'],\n",
        "             'clf__estimator__penalty': ['l1', 'l2', 'elasticnet']\n",
        "            },\n",
        "            { # For Logistic Regression, the best accuracy was 69.48% on the test data (70.12% on training data) -- runs in about 14.1 sec\n",
        "             'clf__estimator': [LogisticRegression(random_state=637, n_jobs=-1)],\n",
        "             'tfidf__ngram_range': [(1, 1), (1, 2)],\n",
        "             'tfidf__norm' : ['l1', 'l2'],\n",
        "             'clf__estimator__C' : np.arange(0.5, 1.5, 11)\n",
        "            }]\n",
        "        \n",
        "        param_dict = {'SVM' : 0, \n",
        "                      'Naive Bayes' : 1,\n",
        "                      'SGD' : 2,\n",
        "                      'KNN' : 3,\n",
        "                      'Random Forest' : 4,\n",
        "                      'Perceptron' : 5,\n",
        "                      'Logistic Regression' : 6}\n",
        " \n",
        "        if classifier != 'all':\n",
        "            parameters = parameters[param_dict[classifier]]\n",
        "        else:\n",
        "            pass\n",
        " \n",
        "        # do 10-fold cross validation for each of the combinations of the above params\n",
        "        self.grid = GridSearchCV(pipeline, cv=cv, param_grid=parameters, n_jobs=-1, verbose=1)\n",
        "        self.grid.fit(X, y)\n",
        " \n",
        "        # summarize results\n",
        "        print(\"\\nBest Model: {0:.2%} using {1}\".format(self.grid.best_score_, self.grid.best_params_))\n",
        "        print('\\n')\n",
        "        self.compile_results(X, y)\n",
        " \n",
        " \n",
        "    def compile_results(self, X, y):\n",
        "        self.means = self.grid.cv_results_['mean_test_score']\n",
        "        self.stds = self.grid.cv_results_['std_test_score']\n",
        "        self.params = self.grid.cv_results_['params']\n",
        " \n",
        "        # Define the estimator tested\n",
        "        estimators = {SVC : 'SVC',\n",
        "                MultinomialNB : 'Naive Bayes',\n",
        "                SGDClassifier : 'SGD',\n",
        "                KNeighborsClassifier : 'KNN',\n",
        "                RandomForestClassifier : 'Random Forest',\n",
        "                Perceptron : 'Perceptron',\n",
        "                LogisticRegression : 'Logistic Regression'}\n",
        " \n",
        "        # Organize the estimator performance into a data frame\n",
        "        data = {'Estimator':[estimators[type(e['clf__estimator'])] for e in self.params],\n",
        "                'score': self.means,\n",
        "                'ngram_range': [e['tfidf__ngram_range'] for e in self.params],\n",
        "                'tfidf__norm' : [e['tfidf__norm'] for e in self.params],\n",
        "                'computing_time' : self.grid.cv_results_['mean_fit_time'],\n",
        "                'estimator_obj' : [e['clf__estimator'] for e in self.params]}\n",
        " \n",
        "        self.all_results = pd.DataFrame(data=data)\n",
        " \n",
        "        # Get the best performing model for each estimator\n",
        "        idx = self.all_results.groupby(['Estimator'])['score'].transform(max) == self.all_results['score']\n",
        "        self.results = self.all_results[idx]\n",
        "        idx = self.results.groupby(['Estimator'])['computing_time'].transform(max) == self.results['computing_time']\n",
        "        self.results = self.results[idx].set_index('Estimator')\n",
        " \n",
        " \n",
        "    def set_uncertainty(self, X, y):\n",
        "        # Find the standard error on aggregate sentiment scores\n",
        "        print('Calculating uncertainty for aggregate sentiment scores...')\n",
        "        self.agg_errs, self.agg_true_means, self.agg_pred_means = self.agg_sent_score(X, y,\n",
        "                                                                                      n_bootstraps=1000,\n",
        "                                                                                      bootstrap_size=1000,\n",
        "                                                                                      verbose=True)\n",
        "        self.agg_me = self.agg_errs.mean()     # Mean average error in aggregated sentiment scores\n",
        "        self.agg_unc = model.agg_errs.std()*2  # Uncertainty in aggregated sentiment scores (95% confidence)\n",
        "        print('Done! Aggregate sentiment uncertainty = {0:.4f}'.format(self.agg_unc))\n",
        " \n",
        " \n",
        "    def print_all_results(self):\n",
        "        for mean, stdev, param in zip(self.means, self.stds, self.params):\n",
        "            param = param.copy()\n",
        "            del param['clf__estimator']\n",
        "            print(\"Mean: %f Stdev:(%f) with: %r\" % (mean, stdev, param))\n",
        " \n",
        " \n",
        "    def score(self, X, y, verbose=False):\n",
        "        return self.grid.score(X, y)\n",
        " \n",
        " \n",
        "    def predict(self, X, vebose=False):\n",
        "        return self.grid.predict(X)\n",
        " \n",
        " \n",
        "    def predict_proba(self, X):\n",
        "        return self.grid.predict_proba(X)\n",
        " \n",
        " \n",
        "    def predict_agg(self, X, verbose=False):\n",
        "        agg_sent = ((self.grid.predict(X) - 2) / 2).mean()\n",
        "        agg_unc = self.agg_unc * np.sqrt(1000 / len(X))\n",
        "        if verbose: print('(scale from -1 to 1) Aggregated sentiment score: {0:.2f} \\u00B1 {1:.2f}\\n'.format(agg_sent, agg_unc))\n",
        "        return agg_sent, self.agg_unc\n",
        " \n",
        " \n",
        "    def classification_report(self, X, y):\n",
        "        y_preds = self.predict(X)\n",
        "        print(classification_report(y, y_preds))\n",
        " \n",
        " \n",
        "    def confusion_matrix(self, X, y):\n",
        "        y_preds = self.predict(X)\n",
        "        print('\\nconfusion matrix: \\n',confusion_matrix(y,y_preds), '\\n')\n",
        " \n",
        " \n",
        "    def estimator_performance(self, metric='score', ylim=(0.6, 0.75)):\n",
        "        # Plot the performance\n",
        "        fig, ax = plt.subplots(figsize=(7, 5))\n",
        "        self.results.sort_values(by=metric, ascending=False).plot.bar(y=metric, ax=ax, rot=45, legend=False)\n",
        "        ax.set_ylim(ylim);\n",
        "        ax.set_title('Model Performance for Each Estimator', fontsize='x-large')\n",
        "        ax.set_xlabel('Estimator Type', fontsize='x-large')\n",
        " \n",
        "        if metric == 'score':\n",
        "            ax.set_ylabel('Max model accuracy', fontsize='x-large')\n",
        "        elif metric == 'computing_time':\n",
        "            ax.set_ylabel('Mean time to fit model (s)', fontsize='x-large')\n",
        "        else:\n",
        "            pass\n",
        "        fig.show()\n",
        "        return fig\n",
        " \n",
        " \n",
        "    def sentiment_performance(self, X, y, ylim=0.5):\n",
        "        # Get results\n",
        "        report = classification_report(y, self.predict(X), output_dict=True)\n",
        "        neg_results = list(report['0'].values())[:3]\n",
        "        neu_results = list(report['2'].values())[:3]\n",
        "        pos_results = list(report['4'].values())[:3]\n",
        " \n",
        "        # Set position of bar on X axis\n",
        "        barWidth = 0.25\n",
        "        x1 = np.arange(len(neg_results))\n",
        "        x2 = [x + barWidth for x in x1]\n",
        "        x3 = [x + barWidth for x in x2]\n",
        " \n",
        "        # Plot the performance\n",
        "        fig, ax = plt.subplots(figsize=(7, 5))\n",
        " \n",
        "        # Make the plot\n",
        "        ax.bar(x1, neg_results, color='indianred', width=barWidth, edgecolor='white', label='Negative')\n",
        "        ax.bar(x2, neu_results, color='sandybrown', width=barWidth, edgecolor='white', label='Neutral')\n",
        "        ax.bar(x3, pos_results, color='mediumseagreen', width=barWidth, edgecolor='white', label='Postiive')\n",
        "        ax.set_xticks(x2)\n",
        "        ax.set_xticklabels(('Precision', 'Recall', 'F1 Score'), fontsize='x-large')\n",
        "        ax.set_ylim(0, 1)\n",
        "        ax.set_title('Best Estimator Performance on Different Sentiments', fontsize='x-large')\n",
        " \n",
        "        ax.legend(bbox_to_anchor=(1.05, 1), loc=2, borderaxespad=0.)\n",
        "        fig.show();\n",
        "        return report\n",
        " \n",
        " \n",
        "    def plot_roc(self, X_test, y_test):\n",
        "        y_score = self.predict_proba(X_test)\n",
        " \n",
        "        # Reshape y_test\n",
        "        ytest = []\n",
        "        for i in y_test:\n",
        "            if i == 0:\n",
        "                ytest.append([1, 0, 0])\n",
        "            elif i == 2:\n",
        "                ytest.append([0, 1, 0])\n",
        "            else:\n",
        "                ytest.append([0, 0, 1])\n",
        "        y_test = np.array(ytest)\n",
        " \n",
        "        # Compute ROC curve and ROC area for each class\n",
        "        fpr = dict()\n",
        "        tpr = dict()\n",
        "        roc_auc = dict()\n",
        "        for i in range(3):\n",
        "            fpr[i], tpr[i], _ = roc_curve(y_test[:, i], y_score[:, i])\n",
        "            roc_auc[i] = auc(fpr[i], tpr[i])\n",
        " \n",
        "        # Compute micro-average ROC curve and ROC area\n",
        "        fpr[\"micro\"], tpr[\"micro\"], _ = roc_curve(y_test.ravel(), y_score.ravel())\n",
        "        roc_auc[\"micro\"] = auc(fpr[\"micro\"], tpr[\"micro\"])\n",
        " \n",
        "        fig, ax = plt.subplots(figsize=(7, 7))\n",
        "        for i, title in enumerate(['Negative', 'Neutral', 'Positive']):\n",
        "            ax.plot(fpr[i], tpr[i], label=title + ' tweets (AUC = %0.2f)' % roc_auc[i])\n",
        "        ax.plot([0, 1], [0, 1], color='black', linestyle='--')\n",
        "        ax.set_xlim([0.0, 1.0])\n",
        "        ax.set_ylim([0.0, 1.0])\n",
        "        ax.set_xlabel('False Negative Rate', fontsize='x-large')\n",
        "        ax.set_ylabel('True Positive Rate', fontsize='x-large')\n",
        "        ax.set_title('ROC Curve of Each Sentiment', fontsize='xx-large')\n",
        "        ax.legend(loc=\"lower right\")\n",
        "        fig.show()\n",
        "        return fig\n",
        " \n",
        " \n",
        "    def agg_sent_score(self, X, y, n_bootstraps=1000, bootstrap_size=1000, verbose=False):\n",
        "        np.random.seed(637)\n",
        "        true_means, pred_means, errs = np.ones(n_bootstraps), np.ones(n_bootstraps), np.ones(n_bootstraps)\n",
        "        for i in range(n_bootstraps):\n",
        "            if verbose:\n",
        "                if not (i+1)%(n_bootstraps//5): print('{0:.0f}% done'.format((i+1)/(n_bootstraps//100)))\n",
        "            ind = np.random.randint(0, len(X), int(bootstrap_size))\n",
        "            X_boot = X[ind]\n",
        "            y_boot = y[ind]\n",
        "            y_pred = self.grid.predict(X_boot)\n",
        " \n",
        "            # Standardize predictions to a -1 to 1 scale\n",
        "            y_boot = (y_boot - 2) / 2\n",
        "            y_pred = (y_pred - 2) / 2\n",
        " \n",
        "            true_means.put(i, y_pred.mean())\n",
        "            pred_means.put(i, y_boot.mean())\n",
        "            errs.put(i, y_boot.mean() - y_pred.mean())\n",
        " \n",
        "        self.mean_agg_error = errs.mean()\n",
        "        return errs, true_means, pred_means\n",
        " \n",
        " \n",
        "    def agg_sent_hist(self, X, y, n_bootstraps=1000, bootstrap_size=1000, verbose=False):\n",
        "        errs, true_means, pred_means = self.agg_sent_score(X, y, n_bootstraps, bootstrap_size, verbose)\n",
        "        fig, ax = plt.subplots(figsize=(7, 7))\n",
        "        ax.hist(errs)\n",
        "        plt.axvline(errs.mean(), color='k', linestyle='dashed')\n",
        "        ax.set_xlabel('Aggregated Sentiment Error', fontsize='xx-large')\n",
        "        ax.set_title('Sentiment Score Prediction Error', fontsize='xx-large')\n",
        "        fig.show()\n",
        "        return fig\n",
        " \n",
        " \n",
        "    def agg_sent_plot(self, X, y, n_bootstraps=1000, bootstrap_size=1000, verbose=False):\n",
        "        errs, true_means, pred_means = self.agg_sent_score(X, y, n_bootstraps, bootstrap_size, verbose)\n",
        "        fig, ax = plt.subplots(figsize=(7, 7))\n",
        "        ax.scatter(true_means, pred_means)\n",
        "        ax.plot(true_means, true_means, color='red')\n",
        "        ax.set_ylabel('Predicted Sentiment Score', fontsize='xx-large')\n",
        "        ax.set_xlabel('Actual Sentiment Score', fontsize='xx-large')\n",
        "        fig.show()\n",
        "        return fig\n",
        " \n",
        "    def word_cloud(self, tweets, labels=None, sentiment=None, showfig=True, mask=None, ngrams_range=(1, 2)):\n",
        "        sent_dict = {'negative':0,\n",
        "                    'neutral':2,\n",
        "                    'positive':4}\n",
        " \n",
        "        tweets = [preprocessTweets(tweet) for tweet in tweets]\n",
        "        if labels is None:\n",
        "            labels = self.predict(tweets)\n",
        " \n",
        "        # Get desired tweets\n",
        "        if sentiment:\n",
        "            tweets = [tweets[i] for i in np.where(labels == sent_dict[sentiment])[0]]\n",
        " \n",
        "        # Get vocabulary of tweets\n",
        "        tfidf = TfidfVectorizer(lowercase=True, \n",
        "                                strip_accents='ascii',\n",
        "                                stop_words='english',\n",
        "                                ngram_range=ngrams_range)\n",
        "        tfidf.fit(tweets)\n",
        "        \n",
        "        vocabulary = tfidf.vocabulary_\n",
        "        weights = tfidf.idf_\n",
        "        weight_dict = {v:w for v, w, in zip(vocabulary, weights)}\n",
        " \n",
        "        # Create Word Cloud\n",
        "        word_cloud = WordCloud(width=2000,\n",
        "                                height=1000,\n",
        "                                max_font_size=200, \n",
        "                                background_color=\"white\",\n",
        "                                max_words=100,\n",
        "                                mask=mask,\n",
        "                                contour_width=1,\n",
        "                                stopwords=STOPWORDS.add('https'))\n",
        "        word_cloud.generate_from_frequencies(weight_dict)\n",
        " \n",
        "        # Plot the Word Cloud\n",
        "        fig = plt.figure(figsize=(10,10))\n",
        "        plt.imshow(word_cloud, interpolation=\"hermite\")\n",
        "        plt.axis(\"off\")     \n",
        "        if showfig: fig.show()\n",
        "        return fig"
      ],
      "execution_count": null,
      "outputs": []
    },
    {
      "cell_type": "code",
      "metadata": {
        "id": "qsH0VP_pW-OR",
        "colab": {
          "base_uri": "https://localhost:8080/",
          "height": 394
        },
        "outputId": "ecfcdea1-60e9-46ec-cec8-b503a753e907"
      },
      "source": [
        "if False:\n",
        "    model = TwitterSentimentModel()\n",
        "    model.fit(X_train, y_train, classifier='SGD')\n",
        "    model.set_uncertainty(X_test, y_test)\n",
        " \n",
        "    with open(\"trained_model.pickle\", \"wb\") as f:\n",
        "        pickle.dump(model, f)"
      ],
      "execution_count": null,
      "outputs": [
        {
          "output_type": "stream",
          "text": [
            "Fitting 10 folds for each of 24 candidates, totalling 240 fits\n"
          ],
          "name": "stdout"
        },
        {
          "output_type": "stream",
          "text": [
            "[Parallel(n_jobs=-1)]: Using backend LokyBackend with 2 concurrent workers.\n",
            "[Parallel(n_jobs=-1)]: Done  46 tasks      | elapsed:    6.8s\n",
            "[Parallel(n_jobs=-1)]: Done 196 tasks      | elapsed:   28.8s\n",
            "[Parallel(n_jobs=-1)]: Done 240 out of 240 | elapsed:   35.5s finished\n"
          ],
          "name": "stderr"
        },
        {
          "output_type": "stream",
          "text": [
            "\n",
            "Best Model: 75.99% using {'clf__estimator': SGDClassifier(alpha=0.0001, average=False, class_weight=None,\n",
            "              early_stopping=False, epsilon=0.1, eta0=0.0, fit_intercept=True,\n",
            "              l1_ratio=0.15, learning_rate='optimal', loss='modified_huber',\n",
            "              max_iter=1000, n_iter_no_change=5, n_jobs=-1,\n",
            "              penalty='elasticnet', power_t=0.5, random_state=637, shuffle=True,\n",
            "              tol=0.001, validation_fraction=0.1, verbose=0, warm_start=False), 'clf__estimator__loss': 'modified_huber', 'clf__estimator__penalty': 'elasticnet', 'tfidf__ngram_range': (1, 2), 'tfidf__norm': 'l2'}\n",
            "\n",
            "\n",
            "Calculating uncertainty for aggregate sentiment scores...\n",
            "20% done\n",
            "40% done\n",
            "60% done\n",
            "80% done\n",
            "100% done\n",
            "Done! Aggregate sentiment uncertainty = 0.0353\n"
          ],
          "name": "stdout"
        }
      ]
    },
    {
      "cell_type": "code",
      "metadata": {
        "id": "8-HVfMTOK_x_"
      },
      "source": [
        "model_location = 'https://github.com/DesiPilla/twitter-sentiment-analysis/blob/master/trained_model.pickle?raw=true'\n",
        "model = load(urlopen(model_location))"
      ],
      "execution_count": null,
      "outputs": []
    },
    {
      "cell_type": "markdown",
      "metadata": {
        "id": "BjyB8hT85fJA"
      },
      "source": [
        "## Validate model performance"
      ]
    },
    {
      "cell_type": "code",
      "metadata": {
        "id": "WTrBk5ecFw4N",
        "colab": {
          "base_uri": "https://localhost:8080/",
          "height": 51
        },
        "outputId": "ea182b06-2b89-44c3-864d-13ab768a313b"
      },
      "source": [
        "acc = model.score(X_test_full, y_test_full), model.score(X_test_bal, y_test_bal) \n",
        "print('accuracy on original test set: {0:.2%}'.format(acc[0])) \n",
        "print('accuracy on balanced test set: {0:.2%}'.format(acc[1])) "
      ],
      "execution_count": null,
      "outputs": [
        {
          "output_type": "stream",
          "text": [
            "accuracy on original test set: 77.94%\n",
            "accuracy on balanced test set: 70.18%\n"
          ],
          "name": "stdout"
        }
      ]
    },
    {
      "cell_type": "code",
      "metadata": {
        "id": "_1skobezDS2r",
        "colab": {
          "base_uri": "https://localhost:8080/",
          "height": 466
        },
        "outputId": "b8b94f47-e497-452d-9236-72f74f92f76f"
      },
      "source": [
        "fig = model.plot_roc(X_test, y_test)\n",
        "fig.savefig('roc.png')"
      ],
      "execution_count": null,
      "outputs": [
        {
          "output_type": "display_data",
          "data": {
            "image/png": "[encoded data removed]",
            "text/plain": [
              "<Figure size 504x504 with 1 Axes>"
            ]
          },
          "metadata": {
            "tags": [],
            "needs_background": "light"
          }
        }
      ]
    },
    {
      "cell_type": "code",
      "metadata": {
        "id": "s5X5AWId2jWp",
        "colab": {
          "base_uri": "https://localhost:8080/",
          "height": 487
        },
        "outputId": "4cbf5fb3-5e2d-4d4e-a3ae-dd1d70f8263d"
      },
      "source": [
        "fig = model.agg_sent_hist(X_test, y_test)\n",
        "print('Mean aggregate score error: {0:.5f}'.format(model.agg_me))\n",
        "fig.savefig('agg_error_hist.png')"
      ],
      "execution_count": null,
      "outputs": [
        {
          "output_type": "stream",
          "text": [
            "Mean aggregate score error: 0.00379\n"
          ],
          "name": "stdout"
        },
        {
          "output_type": "display_data",
          "data": {
            "image/png": "[encoded data removed]",
            "text/plain": [
              "<Figure size 504x504 with 1 Axes>"
            ]
          },
          "metadata": {
            "tags": [],
            "needs_background": "light"
          }
        }
      ]
    },
    {
      "cell_type": "code",
      "metadata": {
        "id": "9tiGRRPq2qZ0",
        "colab": {
          "base_uri": "https://localhost:8080/",
          "height": 452
        },
        "outputId": "43520c08-5886-4348-9786-73f9e04d6a90"
      },
      "source": [
        "fig = model.agg_sent_plot(X_test, y_test)\n",
        "fig.savefig('agg_error_scatter.png')"
      ],
      "execution_count": null,
      "outputs": [
        {
          "output_type": "display_data",
          "data": {
            "image/png": "[encoded data removed]",
            "text/plain": [
              "<Figure size 504x504 with 1 Axes>"
            ]
          },
          "metadata": {
            "tags": [],
            "needs_background": "light"
          }
        }
      ]
    },
    {
      "cell_type": "code",
      "metadata": {
        "id": "8liysiBi1YGf",
        "colab": {
          "base_uri": "https://localhost:8080/",
          "height": 341
        },
        "outputId": "841bb3f4-918b-4dd6-8520-5aed723a07a8"
      },
      "source": [
        "result_dict = model.sentiment_performance(X_test_full, y_test_full)"
      ],
      "execution_count": null,
      "outputs": [
        {
          "output_type": "display_data",
          "data": {
            "image/png": "[encoded data removed]",
            "text/plain": [
              "<Figure size 504x360 with 1 Axes>"
            ]
          },
          "metadata": {
            "tags": [],
            "needs_background": "light"
          }
        }
      ]
    },
    {
      "cell_type": "code",
      "metadata": {
        "id": "dqFVfZ3HszBY",
        "colab": {
          "base_uri": "https://localhost:8080/",
          "height": 204
        },
        "outputId": "1e57921a-1fcd-47fb-87a5-f4d940461e0a"
      },
      "source": [
        "print('\\033[1m\\tClassification report on the Original Test Set\\033[0m')\n",
        "model.classification_report(X_test_full, y_test_full)\n",
        "\n",
        "#print('\\n\\n\\033[1m\\tClassification report on the Balanced Test Set\\033[0m')\n",
        "#model.classification_report(X_test_bal, y_test_bal);"
      ],
      "execution_count": null,
      "outputs": [
        {
          "output_type": "stream",
          "text": [
            "\u001b[1m\tClassification report on the Original Test Set\u001b[0m\n",
            "              precision    recall  f1-score   support\n",
            "\n",
            "           0       0.67      0.65      0.66       104\n",
            "           2       0.83      0.87      0.85       334\n",
            "           4       0.71      0.63      0.66       115\n",
            "\n",
            "    accuracy                           0.78       553\n",
            "   macro avg       0.74      0.72      0.73       553\n",
            "weighted avg       0.78      0.78      0.78       553\n",
            "\n"
          ],
          "name": "stdout"
        }
      ]
    },
    {
      "cell_type": "markdown",
      "metadata": {
        "id": "pprkSt3A5lDA"
      },
      "source": [
        "**Results on full (unbalanced) validation set**\n",
        "\n",
        "| | precision   | recall  |f1-score   |support|\n",
        "|---|-----|-----|-----|----|\n",
        "|0  |0.67 |0.65 |0.66 |104 |\n",
        "|2  |0.83 |0.87 |0.85 |334 |\n",
        "|4  |0.71 |0.63 |0.66 |115 |\n",
        "| | | | | |\n",
        "|accuracy  |||0.78 |553 |\n",
        "|macro avg   |0.74 |0.72 | 0.73 |553|\n",
        "|weighted avg|0.78 |0.78 | 0.78 |553|\n",
        "\n"
      ]
    },
    {
      "cell_type": "markdown",
      "metadata": {
        "id": "4FTFX_tm5jhK"
      },
      "source": [
        "## Compare the different estimators' performance"
      ]
    },
    {
      "cell_type": "code",
      "metadata": {
        "id": "Z9njgMa_8CvW",
        "colab": {
          "base_uri": "https://localhost:8080/",
          "height": 823
        },
        "outputId": "839caaba-38ad-448c-8ea5-deb70d1c9628"
      },
      "source": [
        "fig = model.estimator_performance('score', ylim=(0.6, 0.8))\n",
        "fig.savefig('estimator_performance.png')\n",
        "\n",
        "fig = model.estimator_performance('computing_time', ylim=(0, 4));\n",
        "fig.savefig('estimator_time.png')"
      ],
      "execution_count": null,
      "outputs": [
        {
          "output_type": "display_data",
          "data": {
            "image/png": "[encoded data removed]",
            "text/plain": [
              "<Figure size 504x360 with 1 Axes>"
            ]
          },
          "metadata": {
            "tags": [],
            "needs_background": "light"
          }
        },
        {
          "output_type": "display_data",
          "data": {
            "image/png": "[encoded data removed]",
            "text/plain": [
              "<Figure size 504x360 with 1 Axes>"
            ]
          },
          "metadata": {
            "tags": [],
            "needs_background": "light"
          }
        }
      ]
    },
    {
      "cell_type": "code",
      "metadata": {
        "id": "0LbDhf3ICdQo",
        "colab": {
          "base_uri": "https://localhost:8080/",
          "height": 34
        },
        "outputId": "48c7cd12-5fe5-4ebb-c4fa-853bce38d779"
      },
      "source": [
        "model.results.loc[\"Naive Bayes\", \"computing_time\"] / model.results.loc[\"SGD\", \"computing_time\"] "
      ],
      "execution_count": null,
      "outputs": [
        {
          "output_type": "execute_result",
          "data": {
            "text/plain": [
              "0.782425870250037"
            ]
          },
          "metadata": {
            "tags": []
          },
          "execution_count": 21
        }
      ]
    },
    {
      "cell_type": "code",
      "metadata": {
        "id": "BZbSo4BD2Z_t",
        "colab": {
          "base_uri": "https://localhost:8080/",
          "height": 297
        },
        "outputId": "a0305091-51f7-4fa8-8dd4-0067bcb2fd3a"
      },
      "source": [
        "model.results"
      ],
      "execution_count": null,
      "outputs": [
        {
          "output_type": "execute_result",
          "data": {
            "text/html": [
              "<div>\n",
              "<style scoped>\n",
              "    .dataframe tbody tr th:only-of-type {\n",
              "        vertical-align: middle;\n",
              "    }\n",
              "\n",
              "    .dataframe tbody tr th {\n",
              "        vertical-align: top;\n",
              "    }\n",
              "\n",
              "    .dataframe thead th {\n",
              "        text-align: right;\n",
              "    }\n",
              "</style>\n",
              "<table border=\"1\" class=\"dataframe\">\n",
              "  <thead>\n",
              "    <tr style=\"text-align: right;\">\n",
              "      <th></th>\n",
              "      <th>score</th>\n",
              "      <th>ngram_range</th>\n",
              "      <th>tfidf__norm</th>\n",
              "      <th>computing_time</th>\n",
              "      <th>estimator_obj</th>\n",
              "    </tr>\n",
              "    <tr>\n",
              "      <th>Estimator</th>\n",
              "      <th></th>\n",
              "      <th></th>\n",
              "      <th></th>\n",
              "      <th></th>\n",
              "      <th></th>\n",
              "    </tr>\n",
              "  </thead>\n",
              "  <tbody>\n",
              "    <tr>\n",
              "      <th>SVC</th>\n",
              "      <td>0.756851</td>\n",
              "      <td>(1, 2)</td>\n",
              "      <td>l2</td>\n",
              "      <td>2.443943</td>\n",
              "      <td>SVC(C=1.0, break_ties=False, cache_size=200, c...</td>\n",
              "    </tr>\n",
              "    <tr>\n",
              "      <th>Naive Bayes</th>\n",
              "      <td>0.741470</td>\n",
              "      <td>(1, 2)</td>\n",
              "      <td>l1</td>\n",
              "      <td>0.198657</td>\n",
              "      <td>MultinomialNB(alpha=1.0, class_prior=None, fit...</td>\n",
              "    </tr>\n",
              "    <tr>\n",
              "      <th>SGD</th>\n",
              "      <td>0.759862</td>\n",
              "      <td>(1, 2)</td>\n",
              "      <td>l2</td>\n",
              "      <td>0.253898</td>\n",
              "      <td>SGDClassifier(alpha=0.0001, average=False, cla...</td>\n",
              "    </tr>\n",
              "    <tr>\n",
              "      <th>KNN</th>\n",
              "      <td>0.704060</td>\n",
              "      <td>(1, 2)</td>\n",
              "      <td>l2</td>\n",
              "      <td>0.196545</td>\n",
              "      <td>KNeighborsClassifier(algorithm='auto', leaf_si...</td>\n",
              "    </tr>\n",
              "    <tr>\n",
              "      <th>Random Forest</th>\n",
              "      <td>0.735143</td>\n",
              "      <td>(1, 1)</td>\n",
              "      <td>l2</td>\n",
              "      <td>2.621815</td>\n",
              "      <td>RandomForestClassifier(bootstrap=True, ccp_alp...</td>\n",
              "    </tr>\n",
              "    <tr>\n",
              "      <th>Perceptron</th>\n",
              "      <td>0.701358</td>\n",
              "      <td>(1, 1)</td>\n",
              "      <td>l2</td>\n",
              "      <td>0.157811</td>\n",
              "      <td>Perceptron(alpha=0.0001, class_weight=None, ea...</td>\n",
              "    </tr>\n",
              "    <tr>\n",
              "      <th>Logistic Regression</th>\n",
              "      <td>0.711621</td>\n",
              "      <td>(1, 1)</td>\n",
              "      <td>l2</td>\n",
              "      <td>0.424493</td>\n",
              "      <td>LogisticRegression(C=1.0, class_weight=None, d...</td>\n",
              "    </tr>\n",
              "  </tbody>\n",
              "</table>\n",
              "</div>"
            ],
            "text/plain": [
              "                        score  ...                                      estimator_obj\n",
              "Estimator                      ...                                                   \n",
              "SVC                  0.756851  ...  SVC(C=1.0, break_ties=False, cache_size=200, c...\n",
              "Naive Bayes          0.741470  ...  MultinomialNB(alpha=1.0, class_prior=None, fit...\n",
              "SGD                  0.759862  ...  SGDClassifier(alpha=0.0001, average=False, cla...\n",
              "KNN                  0.704060  ...  KNeighborsClassifier(algorithm='auto', leaf_si...\n",
              "Random Forest        0.735143  ...  RandomForestClassifier(bootstrap=True, ccp_alp...\n",
              "Perceptron           0.701358  ...  Perceptron(alpha=0.0001, class_weight=None, ea...\n",
              "Logistic Regression  0.711621  ...  LogisticRegression(C=1.0, class_weight=None, d...\n",
              "\n",
              "[7 rows x 5 columns]"
            ]
          },
          "metadata": {
            "tags": []
          },
          "execution_count": 22
        }
      ]
    }
  ]
}